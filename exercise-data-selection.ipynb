{
 "cells": [
  {
   "cell_type": "markdown",
   "id": "82df7ad0-4f42-4fac-9360-ab8f58707216",
   "metadata": {},
   "source": [
    "# Preliminary Data Exploration \n",
    "\n",
    "## 3.1 Archive Exploration\n",
    "\n",
    "What is this data about?\n",
    "Occurrence records and associated climate and environmental data for all arthropod prey of listed species in California drylands\n",
    "\n",
    "Is this data collected in-situ by the authors or is it a synthesis of multiple datasets?\n",
    "Environmental data include bioclimatic variables from WorldClim (www.worldclim.org), landcover and NDVI data from MODIS and the LPDAAC (https://lpdaac.usgs.gov/), elevation data from the USGS. Therefre it's a sythesis of multiple datasets. \n",
    "\n",
    "During what time frame were the observations in the dataset collected?\n",
    "Start 1945 ends in 2022\n",
    "\n",
    "Does this dataset come with an associated metadata file?\n",
    "Yes there is an associated metadata file with this dataset\n",
    "\n",
    "Does the dataset contain sensitive data?\n",
    "This contains non-sensitive data \n",
    "\n",
    "This dataset was accessed \n",
    "\n",
    "Rachel King, Jenna Braun, Michael Westphal, & CJ Lortie. (2023). Compiled occurrence records for prey items of listed species found in California drylands with associated environmental data. Knowledge Network for Biocomplexity. doi:10.5063/F1VM49RH. Date accessed: Oct, 5, 2023. https://knb.ecoinformatics.org/view/doi%3A10.5063%2FF1VM49RH\n"
   ]
  },
  {
   "cell_type": "markdown",
   "id": "432fa0bb-8fa2-48ae-b4d7-677cca8c761c",
   "metadata": {},
   "source": [
    "## 3.3 .csv metadata exploration "
   ]
  },
  {
   "cell_type": "code",
   "execution_count": 6,
   "id": "4c8f46f5-311d-4056-894c-b0432428fd41",
   "metadata": {
    "tags": []
   },
   "outputs": [],
   "source": [
    "import pandas as pd \n",
    "\n",
    "prey = pd.read_csv('https://knb.ecoinformatics.org/knb/d1/mn/v2/object/urn%3Auuid%3A23d42528-1048-45d4-85d1-7e13b666e744')\n"
   ]
  },
  {
   "cell_type": "code",
   "execution_count": 7,
   "id": "01aa573b-8224-46fb-8b7f-d31054e3f3f0",
   "metadata": {
    "tags": []
   },
   "outputs": [
    {
     "data": {
      "text/plain": [
       "pandas.core.frame.DataFrame"
      ]
     },
     "execution_count": 7,
     "metadata": {},
     "output_type": "execute_result"
    }
   ],
   "source": [
    "type(prey)"
   ]
  },
  {
   "cell_type": "code",
   "execution_count": null,
   "id": "66bce0b6-76e0-497f-bb8d-4e37ef57fb6c",
   "metadata": {},
   "outputs": [],
   "source": []
  }
 ],
 "metadata": {
  "kernelspec": {
   "display_name": "Anaconda 3 (Base)",
   "language": "python",
   "name": "base"
  },
  "language_info": {
   "codemirror_mode": {
    "name": "ipython",
    "version": 3
   },
   "file_extension": ".py",
   "mimetype": "text/x-python",
   "name": "python",
   "nbconvert_exporter": "python",
   "pygments_lexer": "ipython3",
   "version": "3.9.13"
  }
 },
 "nbformat": 4,
 "nbformat_minor": 5
}
