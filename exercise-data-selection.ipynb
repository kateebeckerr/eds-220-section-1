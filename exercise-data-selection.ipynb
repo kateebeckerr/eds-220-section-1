{
 "cells": [
  {
   "cell_type": "markdown",
   "id": "82df7ad0-4f42-4fac-9360-ab8f58707216",
   "metadata": {},
   "source": [
    "# Preliminary Data Exploration \n",
    "\n",
    "## 3.1 Archive Exploration\n",
    "\n",
    "What is this data about?\n",
    "Occurrence records and associated climate and environmental data for all arthropod prey of listed species in California drylands\n",
    "\n",
    "Is this data collected in-situ by the authors or is it a synthesis of multiple datasets?\n",
    "Environmental data include bioclimatic variables from WorldClim (www.worldclim.org), landcover and NDVI data from MODIS and the LPDAAC (https://lpdaac.usgs.gov/), elevation data from the USGS. Therefre it's a sythesis of multiple datasets. \n",
    "\n",
    "During what time frame were the observations in the dataset collected?\n",
    "Start 1945 ends in 2022\n",
    "\n",
    "Does this dataset come with an associated metadata file?\n",
    "Yes there is an associated metadata file with this dataset\n",
    "\n",
    "Does the dataset contain sensitive data?\n",
    "This contains non-sensitive data \n",
    "\n",
    "This dataset was accessed \n",
    "\n",
    "Rachel King, Jenna Braun, Michael Westphal, & CJ Lortie. (2023). Compiled occurrence records for prey items of listed species found in California drylands with associated environmental data. Knowledge Network for Biocomplexity. doi:10.5063/F1VM49RH. Date accessed: Oct, 5, 2023. https://knb.ecoinformatics.org/view/doi%3A10.5063%2FF1VM49RH\n"
   ]
  }
 ],
 "metadata": {
  "kernelspec": {
   "display_name": "Anaconda 3 (Base)",
   "language": "python",
   "name": "base"
  },
  "language_info": {
   "codemirror_mode": {
    "name": "ipython",
    "version": 3
   },
   "file_extension": ".py",
   "mimetype": "text/x-python",
   "name": "python",
   "nbconvert_exporter": "python",
   "pygments_lexer": "ipython3",
   "version": "3.9.13"
  }
 },
 "nbformat": 4,
 "nbformat_minor": 5
}
